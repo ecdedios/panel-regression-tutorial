{
 "cells": [
  {
   "cell_type": "code",
   "execution_count": 1,
   "id": "6cad68e9",
   "metadata": {},
   "outputs": [],
   "source": [
    "# For reproducibility\n",
    "import random\n",
    "random.seed(493)\n",
    "\n",
    "# For manipulating dataframes\n",
    "import pandas as pd\n",
    "import numpy as np\n",
    "\n",
    "# To print out all the outputs\n",
    "from IPython.core.interactiveshell import InteractiveShell\n",
    "InteractiveShell.ast_node_interactivity = \"all\"\n",
    "\n",
    "# Set display options\n",
    "pd.set_option('display.max_columns', None)\n",
    "pd.set_option('display.max_rows', None)\n",
    "pd.set_option('display.max_colwidth', None)"
   ]
  },
  {
   "cell_type": "code",
   "execution_count": 2,
   "id": "5eeea90c",
   "metadata": {},
   "outputs": [],
   "source": [
    "df = pd.read_csv('data.csv')"
   ]
  },
  {
   "cell_type": "code",
   "execution_count": 3,
   "id": "76b4fefa",
   "metadata": {},
   "outputs": [
    {
     "data": {
      "text/plain": [
       "(731, 6)"
      ]
     },
     "execution_count": 3,
     "metadata": {},
     "output_type": "execute_result"
    }
   ],
   "source": [
    "df.shape"
   ]
  },
  {
   "cell_type": "code",
   "execution_count": 4,
   "id": "ccde8cd5",
   "metadata": {},
   "outputs": [
    {
     "data": {
      "text/plain": [
       "(0, 6)"
      ]
     },
     "execution_count": 4,
     "metadata": {},
     "output_type": "execute_result"
    }
   ],
   "source": [
    "duplicates = df[df.duplicated(subset=['client', 'year'], keep=False)]\n",
    "duplicates.shape"
   ]
  },
  {
   "cell_type": "code",
   "execution_count": 5,
   "id": "c8cf93f6",
   "metadata": {},
   "outputs": [
    {
     "data": {
      "text/plain": [
       "client                      0\n",
       "year                        0\n",
       "sales                       0\n",
       "revenue                     0\n",
       "years_active                0\n",
       "number_years_in_contract    0\n",
       "dtype: int64"
      ]
     },
     "execution_count": 5,
     "metadata": {},
     "output_type": "execute_result"
    }
   ],
   "source": [
    "missing_counts = df.isna().sum()\n",
    "missing_counts"
   ]
  },
  {
   "cell_type": "code",
   "execution_count": 6,
   "id": "4c56cce4",
   "metadata": {},
   "outputs": [],
   "source": [
    "from sklearn.model_selection import train_test_split\n",
    "\n",
    "# Get unique client IDs\n",
    "unique_clients = df['client'].unique()\n",
    "\n",
    "# Split client IDs into train and test\n",
    "train_clients, test_clients = train_test_split(\n",
    "    unique_clients, test_size=0.2, random_state=493\n",
    ")\n",
    "\n",
    "# Create train/test sets by filtering on client\n",
    "train_df = df[df['client'].isin(train_clients)].copy()\n",
    "test_df = df[df['client'].isin(test_clients)].copy()"
   ]
  },
  {
   "cell_type": "code",
   "execution_count": 7,
   "id": "70648e84",
   "metadata": {},
   "outputs": [
    {
     "name": "stdout",
     "output_type": "stream",
     "text": [
      "Missing values in train_df:\n",
      "client                      0\n",
      "year                        0\n",
      "sales                       0\n",
      "revenue                     0\n",
      "years_active                0\n",
      "number_years_in_contract    0\n",
      "dtype: int64\n",
      "\n",
      "Missing values in test_df:\n",
      "client                      0\n",
      "year                        0\n",
      "sales                       0\n",
      "revenue                     0\n",
      "years_active                0\n",
      "number_years_in_contract    0\n",
      "dtype: int64\n",
      "\n",
      "Rows with any missing values in train_df: 0\n",
      "Rows with any missing values in test_df: 0\n"
     ]
    }
   ],
   "source": [
    "# Check missing values in train_df\n",
    "print(\"Missing values in train_df:\")\n",
    "print(train_df.isna().sum())\n",
    "\n",
    "# Check missing values in test_df\n",
    "print(\"\\nMissing values in test_df:\")\n",
    "print(test_df.isna().sum())\n",
    "\n",
    "# Optionally, show number of rows with any missing values\n",
    "print(f\"\\nRows with any missing values in train_df: {train_df.isna().any(axis=1).sum()}\")\n",
    "print(f\"Rows with any missing values in test_df: {test_df.isna().any(axis=1).sum()}\")"
   ]
  },
  {
   "cell_type": "code",
   "execution_count": 8,
   "id": "b0e335bd",
   "metadata": {},
   "outputs": [],
   "source": [
    "# Drop rows with missing values before modeling\n",
    "train_df = train_df.dropna(subset=['sales', 'number_years_in_contract', 'revenue'])\n",
    "\n",
    "# Drop rows with missing values before modeling\n",
    "test_df = test_df.dropna(subset=['sales', 'number_years_in_contract', 'revenue'])"
   ]
  },
  {
   "cell_type": "code",
   "execution_count": 9,
   "id": "6fe89252",
   "metadata": {},
   "outputs": [
    {
     "name": "stderr",
     "output_type": "stream",
     "text": [
      "C:\\Users\\Dd\\AppData\\Local\\Temp\\ipykernel_3004\\205754374.py:24: AbsorbingEffectWarning: \n",
      "Variables have been fully absorbed and have removed from the regression:\n",
      "\n",
      "number_years_in_contract\n",
      "\n",
      "  fe_model = PanelOLS(endog, train_df_clean[exog_vars], entity_effects=True, time_effects=True, drop_absorbed=True).fit(cov_type='robust')\n"
     ]
    },
    {
     "data": {
      "text/html": [
       "<div>\n",
       "<style scoped>\n",
       "    .dataframe tbody tr th:only-of-type {\n",
       "        vertical-align: middle;\n",
       "    }\n",
       "\n",
       "    .dataframe tbody tr th {\n",
       "        vertical-align: top;\n",
       "    }\n",
       "\n",
       "    .dataframe thead th {\n",
       "        text-align: right;\n",
       "    }\n",
       "</style>\n",
       "<table border=\"1\" class=\"dataframe\">\n",
       "  <thead>\n",
       "    <tr style=\"text-align: right;\">\n",
       "      <th></th>\n",
       "      <th>Model</th>\n",
       "      <th>R-squared</th>\n",
       "      <th>Log-Likelihood</th>\n",
       "    </tr>\n",
       "  </thead>\n",
       "  <tbody>\n",
       "    <tr>\n",
       "      <th>0</th>\n",
       "      <td>Pooled OLS</td>\n",
       "      <td>0.850435</td>\n",
       "      <td>-8919.240740</td>\n",
       "    </tr>\n",
       "    <tr>\n",
       "      <th>1</th>\n",
       "      <td>Fixed Effects</td>\n",
       "      <td>0.882909</td>\n",
       "      <td>-8737.651200</td>\n",
       "    </tr>\n",
       "    <tr>\n",
       "      <th>2</th>\n",
       "      <td>Random Effects</td>\n",
       "      <td>0.851806</td>\n",
       "      <td>-8906.229128</td>\n",
       "    </tr>\n",
       "  </tbody>\n",
       "</table>\n",
       "</div>"
      ],
      "text/plain": [
       "            Model  R-squared  Log-Likelihood\n",
       "0      Pooled OLS   0.850435    -8919.240740\n",
       "1   Fixed Effects   0.882909    -8737.651200\n",
       "2  Random Effects   0.851806    -8906.229128"
      ]
     },
     "execution_count": 9,
     "metadata": {},
     "output_type": "execute_result"
    }
   ],
   "source": [
    "# Fit models using cleaned data\n",
    "from linearmodels.panel import PooledOLS, PanelOLS, RandomEffects\n",
    "import statsmodels.api as sm\n",
    "\n",
    "# Prepare clean training data\n",
    "train_df_clean = train_df.dropna(subset=['sales', 'number_years_in_contract', 'revenue']).copy()\n",
    "\n",
    "train_df_clean = train_df.dropna(subset=['sales', 'number_years_in_contract', 'revenue']).copy()\n",
    "\n",
    "# Reset index if already set\n",
    "if train_df_clean.index.names == ['client', 'year']:\n",
    "    train_df_clean = train_df_clean.reset_index()\n",
    "\n",
    "# Now safely set the multi-index\n",
    "train_df_clean = train_df_clean.set_index(['client', 'year'])\n",
    "\n",
    "# Variables\n",
    "exog_vars = ['sales', 'number_years_in_contract']\n",
    "exog = sm.add_constant(train_df_clean[exog_vars])\n",
    "endog = train_df_clean['revenue']\n",
    "\n",
    "# Fit models\n",
    "pooled_ols = PooledOLS(endog, exog).fit(cov_type='robust')\n",
    "fe_model = PanelOLS(endog, train_df_clean[exog_vars], entity_effects=True, time_effects=True, drop_absorbed=True).fit(cov_type='robust')\n",
    "re_model = RandomEffects(endog, exog).fit(cov_type='robust')\n",
    "\n",
    "# Compare model fit\n",
    "fit_comparison = pd.DataFrame({\n",
    "    'Model': ['Pooled OLS', 'Fixed Effects', 'Random Effects'],\n",
    "    'R-squared': [\n",
    "        pooled_ols.rsquared,\n",
    "        getattr(fe_model.rsquared, 'within', fe_model.rsquared),  # fallback\n",
    "        re_model.rsquared\n",
    "    ],\n",
    "    'Log-Likelihood': [pooled_ols.loglik, fe_model.loglik, re_model.loglik]\n",
    "})\n",
    "\n",
    "fit_comparison"
   ]
  },
  {
   "cell_type": "code",
   "execution_count": 10,
   "id": "bf20a280",
   "metadata": {},
   "outputs": [
    {
     "name": "stdout",
     "output_type": "stream",
     "text": [
      "Test R-squared (structural only): 0.5521\n",
      "Test RMSE (in thousands): 4,059,706.36\n"
     ]
    }
   ],
   "source": [
    "# Rescale sales and revenue to make units manageable (divide by 1,000)\n",
    "train_df['sales'] = train_df['sales'] / 1000\n",
    "train_df['revenue'] = train_df['revenue'] / 1000\n",
    "test_df['sales'] = test_df['sales'] / 1000\n",
    "test_df['revenue'] = test_df['revenue'] / 1000\n",
    "\n",
    "# Re-run fixed effects evaluation\n",
    "from linearmodels.panel import PanelOLS\n",
    "import statsmodels.api as sm\n",
    "from sklearn.metrics import r2_score, mean_squared_error\n",
    "import numpy as np\n",
    "\n",
    "# Clean and reindex training data\n",
    "train_df_clean = train_df.dropna(subset=['sales', 'years_active', 'revenue']).copy()\n",
    "if train_df_clean.index.names != ['client', 'year']:\n",
    "    train_df_clean = train_df_clean.set_index(['client', 'year'])\n",
    "\n",
    "# Fit Fixed Effects model\n",
    "exog_vars = ['sales', 'years_active']\n",
    "fe_model = PanelOLS(train_df_clean['revenue'], train_df_clean[exog_vars], entity_effects=True).fit()\n",
    "\n",
    "# Extract coefficients\n",
    "coeffs = fe_model.params\n",
    "\n",
    "# Predict on test set\n",
    "X_test = test_df[['sales', 'years_active']].copy()\n",
    "y_test = test_df['revenue'].copy()\n",
    "y_pred = np.dot(X_test, coeffs.values)\n",
    "\n",
    "# Evaluate performance\n",
    "r2 = r2_score(y_test, y_pred)\n",
    "rmse = mean_squared_error(y_test, y_pred)\n",
    "\n",
    "print(f\"Test R-squared (structural only): {r2:.4f}\")\n",
    "print(f\"Test RMSE (in thousands): {rmse:,.2f}\")"
   ]
  },
  {
   "cell_type": "code",
   "execution_count": 11,
   "id": "ea3f234b",
   "metadata": {},
   "outputs": [
    {
     "data": {
      "text/plain": [
       "<Figure size 800x600 with 0 Axes>"
      ]
     },
     "execution_count": 11,
     "metadata": {},
     "output_type": "execute_result"
    },
    {
     "data": {
      "text/plain": [
       "<matplotlib.collections.PathCollection at 0x1baac190d10>"
      ]
     },
     "execution_count": 11,
     "metadata": {},
     "output_type": "execute_result"
    },
    {
     "data": {
      "text/plain": [
       "[<matplotlib.lines.Line2D at 0x1baac1f1880>]"
      ]
     },
     "execution_count": 11,
     "metadata": {},
     "output_type": "execute_result"
    },
    {
     "data": {
      "text/plain": [
       "Text(0.5, 0, 'Actual Revenue (in thousands)')"
      ]
     },
     "execution_count": 11,
     "metadata": {},
     "output_type": "execute_result"
    },
    {
     "data": {
      "text/plain": [
       "Text(0, 0.5, 'Predicted Revenue (in thousands)')"
      ]
     },
     "execution_count": 11,
     "metadata": {},
     "output_type": "execute_result"
    },
    {
     "data": {
      "text/plain": [
       "Text(0.5, 1.0, 'Fixed Effects Model: Predicted vs Actual Revenue')"
      ]
     },
     "execution_count": 11,
     "metadata": {},
     "output_type": "execute_result"
    },
    {
     "data": {
      "text/plain": [
       "<matplotlib.legend.Legend at 0x1baac1f1ee0>"
      ]
     },
     "execution_count": 11,
     "metadata": {},
     "output_type": "execute_result"
    },
    {
     "data": {
      "image/png": "[encoded data removed]",
      "text/plain": [
       "<Figure size 800x600 with 1 Axes>"
      ]
     },
     "metadata": {},
     "output_type": "display_data"
    }
   ],
   "source": [
    "import matplotlib.pyplot as plt\n",
    "\n",
    "# Plot actual vs predicted revenue\n",
    "plt.figure(figsize=(8, 6))\n",
    "plt.scatter(y_test, y_pred, alpha=0.5)\n",
    "plt.plot([y_test.min(), y_test.max()], [y_test.min(), y_test.max()], 'r--', label='Ideal Fit')\n",
    "plt.xlabel('Actual Revenue (in thousands)')\n",
    "plt.ylabel('Predicted Revenue (in thousands)')\n",
    "plt.title('Fixed Effects Model: Predicted vs Actual Revenue')\n",
    "plt.legend()\n",
    "plt.grid(True)\n",
    "plt.tight_layout()\n",
    "plt.show()\n"
   ]
  }
 ],
 "metadata": {
  "kernelspec": {
   "display_name": "v312",
   "language": "python",
   "name": "python3"
  },
  "language_info": {
   "codemirror_mode": {
    "name": "ipython",
    "version": 3
   },
   "file_extension": ".py",
   "mimetype": "text/x-python",
   "name": "python",
   "nbconvert_exporter": "python",
   "pygments_lexer": "ipython3",
   "version": "3.12.4"
  }
 },
 "nbformat": 4,
 "nbformat_minor": 5
}
